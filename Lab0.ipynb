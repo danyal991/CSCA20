{
 "cells": [
  {
   "cell_type": "code",
   "execution_count": 1,
   "id": "93d47f75",
   "metadata": {},
   "outputs": [
    {
     "name": "stdout",
     "output_type": "stream",
     "text": [
      "What is your first name? Danyal\n",
      "What is your last name? Zaidi\n",
      "Your name is: Danyal Zaidi\n",
      "What is your age?21\n",
      "21\n",
      "In human years you are: 21\n",
      "In dog years you are: 3.0\n",
      "In turtle years you are: 52.5\n"
     ]
    }
   ],
   "source": [
    "first = input(\"What is your first name? \")\n",
    "last = input(\"What is your last name? \")\n",
    "print(\"Your name is: \" + first + \" \" + last)\n",
    "\n",
    "age = int(input(\"What is your age?\"))\n",
    "print(age)\n",
    "\n",
    "human_age = age\n",
    "turtle_age = 2.5*human_age\n",
    "dog_age = human_age/7\n",
    "\n",
    "#1 human year = 7 dog years\n",
    "#1 turtle year = 2.5 human years\n",
    "#assume that the user will enter their age in human years\n",
    "\n",
    "#your code goes here\n",
    "#???? = input(\"How old are you?\")\n",
    "\n",
    "\n",
    "print(\"In human years you are: \" + str(human_age))\n",
    "print(\"In dog years you are: \" + str(dog_age))\n",
    "print(\"In turtle years you are: \" + str(turtle_age))"
   ]
  },
  {
   "cell_type": "code",
   "execution_count": null,
   "id": "f585383b",
   "metadata": {},
   "outputs": [],
   "source": []
  },
  {
   "cell_type": "code",
   "execution_count": null,
   "id": "0ea90356",
   "metadata": {},
   "outputs": [],
   "source": []
  },
  {
   "cell_type": "code",
   "execution_count": null,
   "id": "04c1aca7",
   "metadata": {},
   "outputs": [],
   "source": []
  }
 ],
 "metadata": {
  "kernelspec": {
   "display_name": "Python 3",
   "language": "python",
   "name": "python3"
  },
  "language_info": {
   "codemirror_mode": {
    "name": "ipython",
    "version": 3
   },
   "file_extension": ".py",
   "mimetype": "text/x-python",
   "name": "python",
   "nbconvert_exporter": "python",
   "pygments_lexer": "ipython3",
   "version": "3.8.8"
  }
 },
 "nbformat": 4,
 "nbformat_minor": 5
}
